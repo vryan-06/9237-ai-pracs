{
 "cells": [
  {
   "cell_type": "code",
   "execution_count": 26,
   "metadata": {},
   "outputs": [],
   "source": [
    "def bfs(start, end, x_capacity, y_capacity):\n",
    "\tpath = []\n",
    "\tfront = []\n",
    "\tfront.append(start)\n",
    "\t# front = [[0,0]]\n",
    "\tvisited = []\n",
    "\twhile(front):\n",
    "\t\tcurrent = front.pop()\n",
    "\t\t#current = [0,0]\n",
    "\t\tx = current[0]\n",
    "\t\ty = current[1]\n",
    "\t\tpath.append(current)\n",
    "\t\tif x == end or y == end:\n",
    "\t\t\tprint(\"The solution is:\")\n",
    "\t\t\treturn path\n",
    "\t\n",
    "\t\t# rule 1\n",
    "\t\tif current[0] < x_capacity and ([x_capacity, current[1]] not in visited):\n",
    "\t\t\tfront.append([x_capacity, current[1]])\n",
    "\t\t\tvisited.append([x_capacity, current[1]])\n",
    "\n",
    "\t\t# rule 2\n",
    "\t\tif current[1] < y_capacity and ([current[0], y_capacity] not in visited):\n",
    "\t\t\tfront.append([current[0], y_capacity])\n",
    "\t\t\tvisited.append([current[0], y_capacity])\n",
    "\n",
    "\t\t# rule 3\n",
    "\t\tif current[0] > x_capacity and ([0, current[1]] not in visited):\n",
    "\t\t\tfront.append([0, current[1]])\n",
    "\t\t\tvisited.append([0, current[1]])\n",
    "\n",
    "\t\t# rule 4\n",
    "\t\tif current[1] > y_capacity and ([x_capacity, 0] not in visited):\n",
    "\t\t\tfront.append([x_capacity, 0])\n",
    "\t\t\tvisited.append([x_capacity, 0])\n",
    "\n",
    "\t\t# rule 5\n",
    "\t\t#(x, y) -> (min(x + y, x_capacity), max(0, x + y - x_capacity)) if y > 0\n",
    "\t\tif current[1] > 0 and ([min(x + y, x_capacity), max(0, x + y - x_capacity)] not in visited):\n",
    "\t\t\tfront.append([min(x + y, x_capacity), max(0, x + y - x_capacity)])\n",
    "\t\t\tvisited.append([min(x + y, x_capacity), max(0, x + y - x_capacity)])\n",
    "\n",
    "\t\t# rule 6\n",
    "\t\t# (x, y) -> (max(0, x + y - y_capacity), min(x + y, y_capacity)) if x > 0\n",
    "\t\tif current[0] > 0  and ([max(0, x + y - y_capacity), min(x + y, y_capacity)] not in visited):\n",
    "\t\t\tfront.append([max(0, x + y - y_capacity), min(x + y, y_capacity)])\n",
    "\t\t\tvisited.append([max(0, x + y - y_capacity), min(x + y, y_capacity)])\n",
    "\n",
    "\tprint(\"Not found\")\n",
    "\treturn \" \""
   ]
  },
  {
   "cell_type": "code",
   "execution_count": 27,
   "metadata": {},
   "outputs": [],
   "source": [
    "def gcd(a, b):\n",
    "\tif a == 0:\n",
    "\t\treturn b\n",
    "\treturn gcd((b%a), (a))"
   ]
  },
  {
   "cell_type": "code",
   "execution_count": 30,
   "metadata": {},
   "outputs": [
    {
     "name": "stdout",
     "output_type": "stream",
     "text": [
      "Not found\n",
      " \n"
     ]
    }
   ],
   "source": [
    "if __name__==\"__main__\":\n",
    "\tx_capacity = float(input(\"Enter Jug 1 capacity:\"))\n",
    "\ty_capacity = float(input(\"Enter Jug 2 capacity:\"))\n",
    "\tend = float(input(\"Enter target volume:\"))\n",
    "\n",
    "\tstart = [0, 0] \n",
    "\n",
    "\n",
    "\tif end % gcd(x_capacity,y_capacity) == 0:\n",
    "\t\tfinal_path = bfs(start, end, x_capacity, y_capacity)\n",
    "\t\tfor i in range(0,len(final_path)):\n",
    "\t\t\tprint(final_path[i])\n",
    "\telse:\n",
    "\t\tprint(\"No solution possible for this combination.\")"
   ]
  },
  {
   "cell_type": "code",
   "execution_count": 29,
   "metadata": {},
   "outputs": [],
   "source": [
    "# The solution is:\n",
    "# [0, 0]\n",
    "# [0, 2.0]\n",
    "# [2.0, 0]\n",
    "# [2.0, 2.0]\n",
    "# [4.0, 0]\n",
    "# [4.0, 2.0]\n",
    "# [6.0, 0]\n",
    "# [6.0, 2.0]\n",
    "# [6.5, 1.5]"
   ]
  },
  {
   "cell_type": "code",
   "execution_count": null,
   "metadata": {},
   "outputs": [],
   "source": []
  }
 ],
 "metadata": {
  "kernelspec": {
   "display_name": "Python 3",
   "language": "python",
   "name": "python3"
  },
  "language_info": {
   "codemirror_mode": {
    "name": "ipython",
    "version": 3
   },
   "file_extension": ".py",
   "mimetype": "text/x-python",
   "name": "python",
   "nbconvert_exporter": "python",
   "pygments_lexer": "ipython3",
   "version": "3.10.5"
  },
  "orig_nbformat": 4,
  "vscode": {
   "interpreter": {
    "hash": "26de051ba29f2982a8de78e945f0abaf191376122a1563185a90213a26c5da77"
   }
  }
 },
 "nbformat": 4,
 "nbformat_minor": 2
}
